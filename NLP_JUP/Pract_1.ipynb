{
 "cells": [
  {
   "cell_type": "markdown",
   "id": "5ffd0aff-7689-4e1f-8a64-e3f8dd2c7b43",
   "metadata": {},
   "source": [
    "1a  text to speech"
   ]
  },
  {
   "cell_type": "code",
   "execution_count": 1,
   "id": "b6b7b109-40b2-40c6-bbe1-a425861e4a17",
   "metadata": {},
   "outputs": [
    {
     "name": "stdout",
     "output_type": "stream",
     "text": [
      "done\n"
     ]
    }
   ],
   "source": [
    "import os\n",
    "from gtts import gTTS\n",
    "\n",
    "f= open (\"C:/Users/prath/Documents/MscIt/SEM 4/NLP/Practicals/TextSpeech.txt\")\n",
    "\n",
    "x = f.read()\n",
    "\n",
    "language ='en'\n",
    "audio = gTTS(text=x,lang = language)\n",
    "audio.save(\"wishes.wav\")\n",
    "os.system(\"wishes.wav\")\n",
    "print(\"done\")"
   ]
  },
  {
   "cell_type": "code",
   "execution_count": null,
   "id": "2d945104-5db5-4cd6-b8be-6edc5225d03f",
   "metadata": {},
   "outputs": [],
   "source": [
    "\n"
   ]
  },
  {
   "cell_type": "markdown",
   "id": "51bc8ab0-9f51-4ba8-bf78-151e30f20b55",
   "metadata": {},
   "source": [
    "\n",
    "1b speech to text"
   ]
  },
  {
   "cell_type": "code",
   "execution_count": 19,
   "id": "332f7887-df77-452c-8b88-a6fd9307c793",
   "metadata": {},
   "outputs": [
    {
     "name": "stdout",
     "output_type": "stream",
     "text": [
      "good morning everyone\n"
     ]
    }
   ],
   "source": [
    "import speech_recognition as sr\n",
    "file = \"C:/Users/prath/Documents/MscIt/SEM 4/NLP/Practicals/Greetings.wav\"\n",
    "recog = sr.Recognizer()\n",
    "with sr.AudioFile(file) as source:\n",
    "    audio_data = recog.record(source)\n",
    "    text = recog.recognize_google(audio_data)\n",
    "    print(text)"
   ]
  },
  {
   "cell_type": "code",
   "execution_count": null,
   "id": "0c22844c-7077-486d-b72a-a0c00662288a",
   "metadata": {},
   "outputs": [],
   "source": []
  }
 ],
 "metadata": {
  "kernelspec": {
   "display_name": "Python 3 (ipykernel)",
   "language": "python",
   "name": "python3"
  },
  "language_info": {
   "codemirror_mode": {
    "name": "ipython",
    "version": 3
   },
   "file_extension": ".py",
   "mimetype": "text/x-python",
   "name": "python",
   "nbconvert_exporter": "python",
   "pygments_lexer": "ipython3",
   "version": "3.11.0"
  }
 },
 "nbformat": 4,
 "nbformat_minor": 5
}
