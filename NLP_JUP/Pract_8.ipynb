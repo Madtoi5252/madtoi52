{
 "cells": [
  {
   "cell_type": "code",
   "execution_count": 2,
   "id": "d939cb1a-3e09-4d8c-85f6-1afa8850d4a4",
   "metadata": {},
   "outputs": [
    {
     "name": "stdout",
     "output_type": "stream",
     "text": [
      "\n",
      "Features of breastcancer dataset :  ['mean radius' 'mean texture' 'mean perimeter' 'mean area'\n",
      " 'mean smoothness' 'mean compactness' 'mean concavity'\n",
      " 'mean concave points' 'mean symmetry' 'mean fractal dimension'\n",
      " 'radius error' 'texture error' 'perimeter error' 'area error'\n",
      " 'smoothness error' 'compactness error' 'concavity error'\n",
      " 'concave points error' 'symmetry error' 'fractal dimension error'\n",
      " 'worst radius' 'worst texture' 'worst perimeter' 'worst area'\n",
      " 'worst smoothness' 'worst compactness' 'worst concavity'\n",
      " 'worst concave points' 'worst symmetry' 'worst fractal dimension']\n",
      "\n",
      "Labels of breastcancer dataset :  ['malignant' 'benign']\n",
      "\n",
      "Shape of breastcancer dataset :  (569, 30)\n",
      "\n",
      "Classification Report gaussian : \n",
      "               precision    recall  f1-score   support\n",
      "\n",
      "           0       0.91      0.91      0.91        47\n",
      "           1       0.94      0.94      0.94        67\n",
      "\n",
      "    accuracy                           0.93       114\n",
      "   macro avg       0.93      0.93      0.93       114\n",
      "weighted avg       0.93      0.93      0.93       114\n",
      "\n",
      "\n",
      "Confusion matrix gaussian : \n",
      " [[43  4]\n",
      " [ 4 63]]\n",
      "\n",
      "Accuracy :  92.98245614035088\n"
     ]
    }
   ],
   "source": [
    "import sklearn\n",
    "from sklearn import datasets\n",
    "from sklearn.model_selection import train_test_split\n",
    "from sklearn.naive_bayes import GaussianNB, MultinomialNB\n",
    "from sklearn.metrics import classification_report, confusion_matrix, accuracy_score\n",
    "breastcancer = datasets.load_breast_cancer()\n",
    "print(\"\\nFeatures of breastcancer dataset : \", breastcancer.feature_names)\n",
    "print(\"\\nLabels of breastcancer dataset : \", breastcancer.target_names)\n",
    "print(\"\\nShape of breastcancer dataset : \", breastcancer.data.shape)\n",
    "\n",
    "R = breastcancer.data\n",
    "T = breastcancer.target\n",
    "\n",
    "# Splitting the dataset into training set and testing set\n",
    "Rtrain, Rtest, Ttrain, Ttest = train_test_split(R, T, test_size = 0.2, random_state = 0)\n",
    "\n",
    "# 1. Using the Gaussian Naive Bayes Classifier\n",
    "gauss = GaussianNB()\n",
    "\n",
    "# Training the Gaussian Naive Bayes\n",
    "gauss.fit(Rtrain,Ttrain)\n",
    "\n",
    "# Making predictions\n",
    "pred = gauss.predict(Rtest)\n",
    "\n",
    "# Generating classification report ]\n",
    "gcr = classification_report(Ttest,pred)\n",
    "print(\"\\nClassification Report gaussian : \\n\", gcr)\n",
    "\n",
    "\n",
    "# Generating confusion matrix\n",
    "gcm = confusion_matrix(Ttest, pred)\n",
    "print(\"\\nConfusion matrix gaussian : \\n\", gcm)\n",
    "\n",
    "# Evaluating the naive bayes classifier\n",
    "accuracy = accuracy_score(Ttest, pred)\n",
    "print(\"\\nAccuracy : \", accuracy * 100)"
   ]
  },
  {
   "cell_type": "code",
   "execution_count": null,
   "id": "e861efa5-41b1-41d0-8ba9-a966212b5c3e",
   "metadata": {},
   "outputs": [],
   "source": []
  }
 ],
 "metadata": {
  "kernelspec": {
   "display_name": "Python 3 (ipykernel)",
   "language": "python",
   "name": "python3"
  },
  "language_info": {
   "codemirror_mode": {
    "name": "ipython",
    "version": 3
   },
   "file_extension": ".py",
   "mimetype": "text/x-python",
   "name": "python",
   "nbconvert_exporter": "python",
   "pygments_lexer": "ipython3",
   "version": "3.11.0"
  }
 },
 "nbformat": 4,
 "nbformat_minor": 5
}
