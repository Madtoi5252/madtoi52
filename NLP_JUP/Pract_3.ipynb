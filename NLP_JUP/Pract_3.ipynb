{
 "cells": [
  {
   "cell_type": "markdown",
   "id": "33686441-a4e3-4f82-a9e1-e1c49d7b2d31",
   "metadata": {},
   "source": [
    "**3 A. Study of Wordnet Dictionary with methods as synsets, definitions examples, antonyms**"
   ]
  },
  {
   "cell_type": "code",
   "execution_count": 3,
   "id": "716b6fd3-de99-4cae-b41c-793ae35eaf37",
   "metadata": {},
   "outputs": [
    {
     "name": "stdout",
     "output_type": "stream",
     "text": [
      "[Synset('computer.n.01'), Synset('calculator.n.01')]\n",
      "a machine for performing calculations automatically\n",
      "Examples: []\n",
      "[Lemma('sell.v.01.sell')]\n"
     ]
    }
   ],
   "source": [
    "import nltk\n",
    "from nltk.corpus import wordnet\n",
    "print(wordnet.synsets(\"computer\"))\n",
    "\n",
    "print(wordnet.synset(\"computer.n.01\").definition())\n",
    "\n",
    "#examples\n",
    "print(\"Examples:\", wordnet.synset(\"computer.n.01\").examples())\n",
    "\n",
    "#get Antonyms\n",
    "print(wordnet.lemma('buy.v.01.buy').antonyms())"
   ]
  },
  {
   "cell_type": "markdown",
   "id": "597dde44-aeda-4068-8309-226e3cc1eb3f",
   "metadata": {},
   "source": [
    "**# 3 B. Study lemmas, hyponyms, hypernyms.**"
   ]
  },
  {
   "cell_type": "code",
   "execution_count": 1,
   "id": "0f940fb9-6481-46c3-b268-8223f8bee82d",
   "metadata": {},
   "outputs": [
    {
     "name": "stdout",
     "output_type": "stream",
     "text": [
      "[Synset('computer.n.01'), Synset('calculator.n.01')]\n",
      "['computer', 'computing_machine', 'computing_device', 'data_processor', 'electronic_computer', 'information_processing_system']\n",
      "Synset('computer.n.01') --> ['computer', 'computing_machine', 'computing_device', 'data_processor', 'electronic_computer', 'information_processing_system']\n",
      "Synset('calculator.n.01') --> ['calculator', 'reckoner', 'figurer', 'estimator', 'computer']\n",
      "[Lemma('computer.n.01.computer'), Lemma('computer.n.01.computing_machine'), Lemma('computer.n.01.computing_device'), Lemma('computer.n.01.data_processor'), Lemma('computer.n.01.electronic_computer'), Lemma('computer.n.01.information_processing_system')]\n",
      "Synset('computer.n.01')\n",
      "computing_device\n",
      "<bound method _WordNetObject.hyponyms of Synset('computer.n.01')>\n",
      "['analog_computer', 'analogue_computer', 'digital_computer', 'home_computer', 'node', 'client', 'guest', 'number_cruncher', 'pari-mutuel_machine', 'totalizer', 'totaliser', 'totalizator', 'totalisator', 'predictor', 'server', 'host', 'Turing_machine', 'web_site', 'website', 'internet_site', 'site']\n",
      "[Synset('vehicle.n.01')]\n"
     ]
    }
   ],
   "source": [
    "import nltk\n",
    "from nltk.corpus import wordnet\n",
    "print(wordnet.synsets(\"computer\"))\n",
    "print(wordnet.synset(\"computer.n.01\").lemma_names())\n",
    "\n",
    "#all lemmas for each synset.\n",
    "for e in wordnet.synsets(\"computer\"):\n",
    "  print(f'{e} --> {e.lemma_names()}')\n",
    "\n",
    "#print all lemmas\n",
    "print(wordnet.synset('computer.n.01').lemmas())\n",
    "\n",
    "#synset corresponding to lemma\n",
    "print(wordnet.lemma('computer.n.01.computing_device').synset())\n",
    "\n",
    "#Get the name\n",
    "print(wordnet.lemma('computer.n.01.computing_device').name())\n",
    "\n",
    "#the list of hyponyms\n",
    "syn = wordnet.synset('computer.n.01')\n",
    "print(syn.hyponyms)\n",
    "print([lemma.name() for synset in syn.hyponyms() for lemma in synset.lemmas()])\n",
    "\n",
    "#the semantic similarity in WordNet\n",
    "vehicle = wordnet.synset('vehicle.n.01')\n",
    "car = wordnet.synset('car.n.01')\n",
    "print(car.lowest_common_hypernyms(vehicle))"
   ]
  },
  {
   "cell_type": "markdown",
   "id": "0acc016d-c298-4b34-a39e-c50b29064820",
   "metadata": {},
   "source": [
    "**3C. Write a program using python to find synonym and antonym of word \"active\" using Wordnet.**"
   ]
  },
  {
   "cell_type": "code",
   "execution_count": 2,
   "id": "f09a1ad9-b3ff-465b-95de-9d65c0c4cda2",
   "metadata": {},
   "outputs": [
    {
     "name": "stdout",
     "output_type": "stream",
     "text": [
      "[Synset('active_agent.n.01'), Synset('active_voice.n.01'), Synset('active.n.03'), Synset('active.a.01'), Synset('active.s.02'), Synset('active.a.03'), Synset('active.s.04'), Synset('active.a.05'), Synset('active.a.06'), Synset('active.a.07'), Synset('active.s.08'), Synset('active.a.09'), Synset('active.a.10'), Synset('active.a.11'), Synset('active.a.12'), Synset('active.a.13'), Synset('active.a.14')]\n",
      "[Lemma('inactive.a.02.inactive')]\n"
     ]
    }
   ],
   "source": [
    "from nltk.corpus import wordnet\n",
    "\n",
    "print( wordnet.synsets(\"active\"))\n",
    "\n",
    "print(wordnet.lemma('active.a.01.active').antonyms())"
   ]
  },
  {
   "cell_type": "markdown",
   "id": "1b5ce3b0-b6c8-45a0-976b-9dee123e68a0",
   "metadata": {},
   "source": [
    "**3D. Compare two nouns**"
   ]
  },
  {
   "cell_type": "code",
   "execution_count": 4,
   "id": "a45bf26c-200c-4d49-983c-4888058c27db",
   "metadata": {},
   "outputs": [
    {
     "name": "stdout",
     "output_type": "stream",
     "text": [
      "[Synset('football.n.01'), Synset('football.n.02')]\n",
      "[Synset('soccer.n.01')]\n",
      "similarity of: \n",
      "Synset('football.n.01') ( n ) [ any of various games played with a ball (round or oval) in which two teams try to kick or carry or propel the ball into each other's goal ]\n",
      "Synset('soccer.n.01') ( n ) [ a football game in which two teams of 11 players try to kick or head a ball into the opponents' goal ]\n",
      " Similarity is 0.5\n",
      "\n",
      "similarity of: \n",
      "Synset('football.n.02') ( n ) [ the inflated oblong ball used in playing American football ]\n",
      "Synset('soccer.n.01') ( n ) [ a football game in which two teams of 11 players try to kick or head a ball into the opponents' goal ]\n",
      " Similarity is 0.05\n",
      "\n"
     ]
    },
    {
     "name": "stderr",
     "output_type": "stream",
     "text": [
      "[nltk_data] Downloading package wordnet to\n",
      "[nltk_data]     C:\\Users\\prath\\AppData\\Roaming\\nltk_data...\n",
      "[nltk_data]   Package wordnet is already up-to-date!\n"
     ]
    }
   ],
   "source": [
    "import nltk\n",
    "nltk.download('wordnet')\n",
    "from nltk.corpus import wordnet\n",
    "\n",
    "syn1 = wordnet.synsets('football')\n",
    "syn2 = wordnet.synsets('soccer')\n",
    "print(syn1)\n",
    "print(syn2)\n",
    "\n",
    "for s1 in syn1:\n",
    "  for s2 in syn2:\n",
    "    print(\"similarity of: \")\n",
    "    print(s1, '(', s1.pos(), ')', '[', s1.definition(), ']')\n",
    "    print(s2, '(', s2.pos(), ')', '[', s2.definition(), ']')\n",
    "    print(\" Similarity is\", s1.path_similarity(s2))\n",
    "    print()"
   ]
  },
  {
   "cell_type": "markdown",
   "id": "9e5ba61b-0066-434d-9edd-b0fd03c76a47",
   "metadata": {},
   "source": [
    "**Practical 3E: Handling stopword:**"
   ]
  },
  {
   "cell_type": "markdown",
   "id": "29fe6811-990c-4c09-96a0-8f9d1b7c1f61",
   "metadata": {},
   "source": [
    "Using nltk Adding or Removing Stop Words in NLTK's Default Stop Word List"
   ]
  },
  {
   "cell_type": "code",
   "execution_count": 5,
   "id": "c009a9af-d91f-489a-90f6-6a1052ca01d7",
   "metadata": {},
   "outputs": [
    {
     "name": "stderr",
     "output_type": "stream",
     "text": [
      "[nltk_data] Downloading package punkt to\n",
      "[nltk_data]     C:\\Users\\prath\\AppData\\Roaming\\nltk_data...\n",
      "[nltk_data]   Package punkt is already up-to-date!\n",
      "[nltk_data] Downloading package stopwords to\n",
      "[nltk_data]     C:\\Users\\prath\\AppData\\Roaming\\nltk_data...\n",
      "[nltk_data]   Package stopwords is already up-to-date!\n"
     ]
    },
    {
     "name": "stdout",
     "output_type": "stream",
     "text": [
      "['Raj', 'likes', 'play', 'football', ',', 'fond', 'tennis', '.']\n",
      "['Raj', 'likes', 'football', ',', 'however', 'fond', 'tennis', '.']\n",
      "['Raj', 'likes', 'football', ',', 'however', 'not', 'fond', 'tennis', '.']\n"
     ]
    }
   ],
   "source": [
    "import nltk\n",
    "nltk.download('punkt')\n",
    "from nltk.corpus import stopwords\n",
    "nltk.download('stopwords')\n",
    "from nltk.tokenize import word_tokenize\n",
    "\n",
    "text = \"Raj likes to play football, however he is not too fond of tennis.\"\n",
    "text_tokens = word_tokenize(text)\n",
    "tokens_without_sw = [word for word in text_tokens if not word in stopwords.words()]\n",
    "print(tokens_without_sw)\n",
    "\n",
    "#add the word 'play' to the NLTK stop word collection\n",
    "all_stopwords = stopwords.words('english')\n",
    "all_stopwords.append('play')\n",
    "text_tokens = word_tokenize(text)\n",
    "tokens_without_sw = [word for word in text_tokens if not word in all_stopwords]\n",
    "print(tokens_without_sw)\n",
    "\n",
    "#remove ‘not’ from stop word collection\n",
    "all_stopwords.remove('not')\n",
    "text_tokens = word_tokenize(text)\n",
    "tokens_without_sw = [word for word in text_tokens if not word in all_stopwords]\n",
    "print(tokens_without_sw)"
   ]
  },
  {
   "cell_type": "markdown",
   "id": "5314f612-0bb1-462f-b15a-02cafa48ec98",
   "metadata": {},
   "source": [
    "**Using Gensim Adding and Removing Stop Words in Default Gensim Stop Words List**"
   ]
  },
  {
   "cell_type": "code",
   "execution_count": 18,
   "id": "15ffa743-2e66-428f-b462-587203df48dd",
   "metadata": {},
   "outputs": [
    {
     "name": "stdout",
     "output_type": "stream",
     "text": [
      "Raj likes to play football, however he is not too fond of tennis.\n",
      "\n",
      " After removing Stop words:  Raj likes play football, fond tennis.\n",
      "\n",
      " Stop words in Gensim:  frozenset({'along', 'eg', 'about', 'describe', 'thin', 'could', 'hereupon', 'find', 'so', 'his', 'whose', 'them', 'put', 'one', 'really', 'without', 'we', 'noone', 'cannot', 'only', 'various', 'already', 'just', 'co', 'nevertheless', 'together', 'side', 'hers', 'to', 'between', 'should', 'this', 'nowhere', 'our', 'again', 'six', 'latterly', 'mine', 'why', 'anyway', 'toward', 'whereby', 'using', 'take', 'sincere', 'other', 'therein', 'beyond', 'how', 'would', 'but', 'above', 'serious', 'becomes', 'due', 'thereupon', 'their', 'twelve', 'against', 'more', 'most', 'there', 'used', 'didn', 'himself', 'whole', 'became', 'indeed', 'has', 'fire', 'top', 'give', 'con', 'say', 'thru', 'mostly', 'beforehand', 'your', 'up', 'nine', 'once', 'ltd', 'next', 'first', 'quite', 'de', 'become', 'nobody', 'namely', 'besides', 'been', 'almost', 'thence', 'three', 'since', 'yours', 'seemed', 'must', 'perhaps', 'over', 'are', 'done', 'neither', 'meanwhile', 'until', 'least', 'itself', 'cry', 'don', 'both', 'found', 'anything', 'ever', 'who', 'few', 'four', 'bottom', 'own', 'throughout', 'becoming', 'after', 'behind', 'among', 'its', 'elsewhere', 'never', 'same', 'whereupon', 'keep', 'yourself', 'none', 'others', 'whither', 'even', 'these', 'do', 'therefore', 'forty', 'amount', 'ours', 'else', 'if', 'afterwards', 'fill', 'last', 'although', 'further', 'nothing', 'per', 'full', 'alone', 'from', 'within', 'computer', 'sixty', 'than', 'she', 'wherein', 'was', 'another', 'ourselves', 'regarding', 'everything', 'below', 'no', 'now', 'for', 'any', 'then', 'eight', 'of', 'please', 'wherever', 'everyone', 'herein', 'her', 'everywhere', 'hasnt', 'am', 'by', 'around', 'during', 'also', 'each', 'whenever', 'such', 'very', 'off', 'which', 'formerly', 'moreover', 'ie', 'nor', 'thus', 'whether', 'whence', 'us', 'inc', 'hereby', 'thereby', 'upon', 'down', 'well', 'many', 'before', 'myself', 'onto', 'cant', 'me', 'every', 'kg', 'make', 'several', 'ten', 'did', 'anyhow', 'be', 'seem', 'fifty', 'have', 'interest', 'whoever', 'him', 'thereafter', 'enough', 'were', 'with', 'can', 'system', 'themselves', 'while', 'on', 'at', 'is', 'doing', 'latter', 'always', 'except', 'hence', 'whereafter', 'via', 'couldnt', 'somehow', 'part', 'does', 'much', 'whatever', 'either', 'those', 'sometimes', 'otherwise', 'show', 'sometime', 'made', 'that', 'yourselves', 'bill', 'etc', 'former', 'twenty', 'when', 'a', 'get', 'somewhere', 'all', 'through', 'the', 'third', 'back', 'and', 'hereafter', 'detail', 'across', 'under', 'amongst', 'still', 'an', 'i', 'might', 'he', 'five', 'because', 'will', 'front', 'often', 'eleven', 'doesn', 'some', 'my', 'being', 'had', 're', 'or', 'km', 'seeming', 'though', 'not', 'amoungst', 'as', 'fifteen', 'where', 'call', 'too', 'something', 'un', 'towards', 'go', 'what', 'see', 'herself', 'whom', 'into', 'someone', 'yet', 'name', 'beside', 'out', 'unless', 'hundred', 'may', 'thick', 'here', 'move', 'two', 'less', 'rather', 'seems', 'they', 'it', 'however', 'empty', 'anywhere', 'you', 'whereas', 'anyone', 'in', 'mill'})\n",
      "['Pratham', 'likes', 'to', 'play', 'football', ',', 'however', 'he', 'is', 'not', 'too', 'fond', 'of', 'tennis', '.']\n",
      "\n",
      " After adding likes & play in stop word collection:  ['Pratham', 'football', ',', 'fond', 'tennis', '.']\n",
      "['Pratham', 'likes', 'play', 'football', ',', 'not', 'fond', 'tennis', '.']\n"
     ]
    }
   ],
   "source": [
    "import gensim\n",
    "from gensim.parsing.preprocessing import remove_stopwords\n",
    "text = \"Raj likes to play football, however he is not too fond of tennis.\"\n",
    "print( text)\n",
    "\n",
    "filtered_sentence = remove_stopwords(text)\n",
    "print('\\n After removing Stop words: ',filtered_sentence)\n",
    "\n",
    "\n",
    "all_stopwords = gensim.parsing.preprocessing.STOPWORDS\n",
    "print('\\n Stop words in Gensim: ', all_stopwords)\n",
    "\n",
    "\n",
    "from gensim.parsing.preprocessing import STOPWORDS\n",
    "all_stopwords_gensim = STOPWORDS.union(set(['likes', 'play']))\n",
    "\n",
    "text = \"Pratham likes to play football, however he is not too fond of tennis.\"\n",
    "text_tokens = word_tokenize(text)\n",
    "print(text_tokens)\n",
    "\n",
    "tokens_without_sw = [word for word in text_tokens if not word in all_stopwords_gensim]\n",
    "print(\"\\n After adding likes & play in stop word collection: \",tokens_without_sw)\n",
    "\n",
    "from gensim.parsing.preprocessing import STOPWORDS\n",
    "all_stopwords_gensim = STOPWORDS\n",
    "sw_list = {\"not\"}\n",
    "\n",
    "all_stopwords_gensim = STOPWORDS.difference(sw_list)\n",
    "text = \"Pratham likes to play football, however he is not too fond of tennis.\"\n",
    "text_tokens = word_tokenize(text)\n",
    "\n",
    "\n",
    "tokens_without_sw = [word for word in text_tokens if not word in all_stopwords_gensim]\n",
    "print(tokens_without_sw)"
   ]
  },
  {
   "cell_type": "markdown",
   "id": "298933f7-524c-4c60-b463-0846fdcd3dd2",
   "metadata": {},
   "source": [
    "**Using Spacy Adding and Removing Stop Words in Default Spacy Stop Words List**"
   ]
  },
  {
   "cell_type": "code",
   "execution_count": 1,
   "id": "a50d9447-886f-4c62-a1cb-aff0ea409707",
   "metadata": {},
   "outputs": [
    {
     "name": "stdout",
     "output_type": "stream",
     "text": [
      "['Pratham', 'likes', 'football', ',', 'fond', 'tennis', '.']\n",
      "['Pratham', 'likes', 'football', ',', 'not', 'fond', 'tennis', '.']\n"
     ]
    }
   ],
   "source": [
    "import spacy\n",
    "import nltk\n",
    "from nltk.tokenize import word_tokenize\n",
    "\n",
    "# Remember to dowbnload (  python -m spacy download en_core_web_trf  )\n",
    "sp = spacy.load('en_core_web_trf')\n",
    "\n",
    "\n",
    "#add the word play to the NLTK stop word collection\n",
    "all_stopwords = sp.Defaults.stop_words\n",
    "all_stopwords.add(\"play\")\n",
    "text = \"Pratham likes to play football, however he is not too fond of tennis.\"\n",
    "text_tokens = word_tokenize(text)\n",
    "tokens_without_sw = [word for word in text_tokens if not word in all_stopwords]\n",
    "print(tokens_without_sw)\n",
    "\n",
    "#remove 'not' from stop word collection\n",
    "all_stopwords.remove('not')\n",
    "tokens_without_sw = [word for word in text_tokens if not word in all_stopwords]\n",
    "print(tokens_without_sw)"
   ]
  },
  {
   "cell_type": "code",
   "execution_count": null,
   "id": "c5bfb34e-838f-483d-9dc6-eaba45f3fc9d",
   "metadata": {},
   "outputs": [],
   "source": []
  }
 ],
 "metadata": {
  "kernelspec": {
   "display_name": "Python 3 (ipykernel)",
   "language": "python",
   "name": "python3"
  },
  "language_info": {
   "codemirror_mode": {
    "name": "ipython",
    "version": 3
   },
   "file_extension": ".py",
   "mimetype": "text/x-python",
   "name": "python",
   "nbconvert_exporter": "python",
   "pygments_lexer": "ipython3",
   "version": "3.11.0"
  }
 },
 "nbformat": 4,
 "nbformat_minor": 5
}
